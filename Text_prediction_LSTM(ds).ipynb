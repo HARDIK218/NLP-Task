{
  "nbformat": 4,
  "nbformat_minor": 0,
  "metadata": {
    "colab": {
      "provenance": [],
      "gpuType": "T4",
      "authorship_tag": "ABX9TyNT5Vg7XNDY7oEn01IjSF2s",
      "include_colab_link": true
    },
    "kernelspec": {
      "name": "python3",
      "display_name": "Python 3"
    },
    "language_info": {
      "name": "python"
    },
    "accelerator": "GPU"
  },
  "cells": [
    {
      "cell_type": "markdown",
      "metadata": {
        "id": "view-in-github",
        "colab_type": "text"
      },
      "source": [
        "<a href=\"https://colab.research.google.com/github/HARDIK218/NLP-Task/blob/main/Text_prediction_LSTM(ds).ipynb\" target=\"_parent\"><img src=\"https://colab.research.google.com/assets/colab-badge.svg\" alt=\"Open In Colab\"/></a>"
      ]
    },
    {
      "cell_type": "code",
      "execution_count": 1,
      "metadata": {
        "id": "VH5rXFeKOL1T"
      },
      "outputs": [],
      "source": [
        "from keras.models import Sequential\n",
        "from keras.layers import Dense,Dropout,LSTM\n",
        "from keras.optimizers import RMSprop\n",
        "import numpy as np\n",
        "import random\n",
        "import sys\n"
      ]
    },
    {
      "cell_type": "code",
      "source": [
        "#import text\n",
        "filename = \"/content/book(text prediction).txt\"\n",
        "raw_text = open(filename,'r',encoding = 'utf-8').read()\n",
        "raw_text = raw_text.lower()\n",
        "print(raw_text[0:1000])"
      ],
      "metadata": {
        "colab": {
          "base_uri": "https://localhost:8080/"
        },
        "id": "Zx_rqm_MPdbZ",
        "outputId": "fd36f1db-02bb-452d-ada4-8ccffb511da6"
      },
      "execution_count": 5,
      "outputs": [
        {
          "output_type": "stream",
          "name": "stdout",
          "text": [
            "﻿the project gutenberg ebook of the jungle book\n",
            "    \n",
            "this ebook is for the use of anyone anywhere in the united states and\n",
            "most other parts of the world at no cost and with almost no restrictions\n",
            "whatsoever. you may copy it, give it away or re-use it under the terms\n",
            "of the project gutenberg license included with this ebook or online\n",
            "at www.gutenberg.org. if you are not located in the united states,\n",
            "you will have to check the laws of the country where you are located\n",
            "before using this ebook.\n",
            "\n",
            "title: the jungle book\n",
            "\n",
            "\n",
            "author: rudyard kipling\n",
            "\n",
            "release date: january 16, 2006 [ebook #236]\n",
            "                most recently updated: may 1, 2023\n",
            "\n",
            "language: english\n",
            "\n",
            "\n",
            "\n",
            "*** start of the project gutenberg ebook the jungle book ***\n",
            "\n",
            "\n",
            "\n",
            "the jungle book\n",
            "\n",
            "by rudyard kipling\n",
            "\n",
            "\n",
            "\n",
            "contents\n",
            "\n",
            "     mowgli’s brothers\n",
            "     hunting-song of the seeonee pack\n",
            "     kaa’s hunting\n",
            "     road-song of the bandar-log\n",
            "     “tiger! tiger!”\n",
            "      mowgli’s song\n",
            "     the white seal\n",
            "     lukannon\n",
            "     “rikki-tikki-tavi”\n",
            "      darze\n"
          ]
        }
      ]
    },
    {
      "cell_type": "code",
      "source": [
        "#clean text\n",
        "#remove number\n",
        "raw_text = ''.join(c for c in raw_text if not c.isdigit())\n",
        "\n",
        "char = sorted(list(set(raw_text)))#list of every character\n"
      ],
      "metadata": {
        "id": "thSWqgBxPmag"
      },
      "execution_count": 6,
      "outputs": []
    },
    {
      "cell_type": "code",
      "source": [
        "char"
      ],
      "metadata": {
        "colab": {
          "base_uri": "https://localhost:8080/"
        },
        "id": "3E2C0BWRTo3S",
        "outputId": "3ba5a85c-952b-4868-8986-e65d5e3c95d7"
      },
      "execution_count": 7,
      "outputs": [
        {
          "output_type": "execute_result",
          "data": {
            "text/plain": [
              "['\\n',\n",
              " ' ',\n",
              " '!',\n",
              " '#',\n",
              " '$',\n",
              " '%',\n",
              " '(',\n",
              " ')',\n",
              " '*',\n",
              " ',',\n",
              " '-',\n",
              " '.',\n",
              " '/',\n",
              " ':',\n",
              " ';',\n",
              " '?',\n",
              " '[',\n",
              " ']',\n",
              " '_',\n",
              " '`',\n",
              " 'a',\n",
              " 'b',\n",
              " 'c',\n",
              " 'd',\n",
              " 'e',\n",
              " 'f',\n",
              " 'g',\n",
              " 'h',\n",
              " 'i',\n",
              " 'j',\n",
              " 'k',\n",
              " 'l',\n",
              " 'm',\n",
              " 'n',\n",
              " 'o',\n",
              " 'p',\n",
              " 'q',\n",
              " 'r',\n",
              " 's',\n",
              " 't',\n",
              " 'u',\n",
              " 'v',\n",
              " 'w',\n",
              " 'x',\n",
              " 'y',\n",
              " 'z',\n",
              " 'â',\n",
              " '—',\n",
              " '‘',\n",
              " '’',\n",
              " '“',\n",
              " '”',\n",
              " '•',\n",
              " '™',\n",
              " '\\ufeff']"
            ]
          },
          "metadata": {},
          "execution_count": 7
        }
      ]
    },
    {
      "cell_type": "code",
      "source": [
        "#convert it to integers,each unique value will be assigned an integer\n",
        "#create a dictionary of characters mapped to integer value\n",
        "char_to_int = dict((c,i) for i,c in enumerate(char))\n",
        "\n",
        "#do reverse so that we print character not in integer\n",
        "int_to_char = dict((i,c) for i,c in enumerate(char))"
      ],
      "metadata": {
        "id": "CxoSbB1lTp_i"
      },
      "execution_count": 8,
      "outputs": []
    },
    {
      "cell_type": "code",
      "source": [
        "#summarize the data\n",
        "n_chars = len(raw_text)\n",
        "n_vocab = len(char)\n",
        "print(\"total char in the text\",n_chars)\n",
        "print(\"total vocab\" , n_vocab)"
      ],
      "metadata": {
        "colab": {
          "base_uri": "https://localhost:8080/"
        },
        "id": "0MPJoNOCUi5s",
        "outputId": "3b1741df-a71c-4b49-bded-7958a5a1e472"
      },
      "execution_count": 9,
      "outputs": [
        {
          "output_type": "stream",
          "name": "stdout",
          "text": [
            "total char in the text 292119\n",
            "total vocab 55\n"
          ]
        }
      ]
    },
    {
      "cell_type": "code",
      "source": [
        "#now we will craete input and output sequence for training\n",
        "\n",
        "seq_length = 60\n",
        "step = 10\n",
        "sentences = [] #x values(sentences)\n",
        "next_chars = [] #y value the character that follows the sentence defined as x\n",
        "for i in range(0,n_chars-seq_length,step):\n",
        "  sentences.append(raw_text[i:i+seq_length]) #step=1 means each sentence is offset just by single letter\n",
        "  next_chars.append(raw_text[i+seq_length])\n",
        "n_patterns = len(sentences)\n",
        "print('number of sequences',n_patterns)"
      ],
      "metadata": {
        "colab": {
          "base_uri": "https://localhost:8080/"
        },
        "id": "a0Vm5cwiU8Dj",
        "outputId": "3b6d092c-050f-4758-f5f2-73b743ca17c3"
      },
      "execution_count": 10,
      "outputs": [
        {
          "output_type": "stream",
          "name": "stdout",
          "text": [
            "number of sequences 29206\n"
          ]
        }
      ]
    },
    {
      "cell_type": "code",
      "source": [
        "# reshape input to be [samples, time steps, features]\n",
        "\n",
        "#time steps = sequence length\n",
        "#features = numbers of characters in our vocab (n_vocab)\n",
        "#Vectorize all sentences: there are n_patterns sentences.\n",
        "#For each sentence we have n_vocab characters available for seq_length\n",
        "#Vectorization returns a vector for all sentences indicating the presence or absence\n",
        "#of a character.\n",
        "\n",
        "x = np.zeros((len(sentences),seq_length,n_vocab),dtype=np.bool)\n",
        "y = np.zeros((len(sentences),n_vocab),dtype=np.bool)\n",
        "for i,sentence in enumerate(sentences):\n",
        "  for t,char in enumerate(sentence):\n",
        "    x[i,t,char_to_int[char]] = 1\n",
        "    y[i,char_to_int[next_chars[i]]] = 1\n",
        "\n",
        "print(x.shape)\n",
        "print(y.shape)\n",
        "print(y[0:10])\n",
        "\n",
        "\n"
      ],
      "metadata": {
        "colab": {
          "base_uri": "https://localhost:8080/"
        },
        "id": "3B9B3fa1Ys8-",
        "outputId": "080b9d8b-e52c-4fbd-d6e9-d3dbb6cce591"
      },
      "execution_count": 11,
      "outputs": [
        {
          "output_type": "stream",
          "name": "stderr",
          "text": [
            "<ipython-input-11-f086c95888d0>:10: DeprecationWarning: `np.bool` is a deprecated alias for the builtin `bool`. To silence this warning, use `bool` by itself. Doing this will not modify any behavior and is safe. If you specifically wanted the numpy scalar type, use `np.bool_` here.\n",
            "Deprecated in NumPy 1.20; for more details and guidance: https://numpy.org/devdocs/release/1.20.0-notes.html#deprecations\n",
            "  x = np.zeros((len(sentences),seq_length,n_vocab),dtype=np.bool)\n",
            "<ipython-input-11-f086c95888d0>:11: DeprecationWarning: `np.bool` is a deprecated alias for the builtin `bool`. To silence this warning, use `bool` by itself. Doing this will not modify any behavior and is safe. If you specifically wanted the numpy scalar type, use `np.bool_` here.\n",
            "Deprecated in NumPy 1.20; for more details and guidance: https://numpy.org/devdocs/release/1.20.0-notes.html#deprecations\n",
            "  y = np.zeros((len(sentences),n_vocab),dtype=np.bool)\n"
          ]
        },
        {
          "output_type": "stream",
          "name": "stdout",
          "text": [
            "(29206, 60, 55)\n",
            "(29206, 55)\n",
            "[[False False False False False False False False False False False False\n",
            "  False False False False False False False False False False False False\n",
            "  False False False False False False False False False False  True False\n",
            "  False False False False False False False False False False False False\n",
            "  False False False False False False False]\n",
            " [False  True False False False False False False False False False False\n",
            "  False False False False False False False False False False False False\n",
            "  False False False False False False False False False False False False\n",
            "  False False False False False False False False False False False False\n",
            "  False False False False False False False]\n",
            " [False False False False False False False False False False False False\n",
            "  False False False False False False False False False False False False\n",
            "  False  True False False False False False False False False False False\n",
            "  False False False False False False False False False False False False\n",
            "  False False False False False False False]\n",
            " [False False False False False False False False False False False False\n",
            "  False False False False False False False False False False False False\n",
            "  False False False False False False False False False  True False False\n",
            "  False False False False False False False False False False False False\n",
            "  False False False False False False False]\n",
            " [False  True False False False False False False False False False False\n",
            "  False False False False False False False False False False False False\n",
            "  False False False False False False False False False False False False\n",
            "  False False False False False False False False False False False False\n",
            "  False False False False False False False]\n",
            " [False False False False False False False False False False False False\n",
            "  False False False False False False False False False False False  True\n",
            "  False False False False False False False False False False False False\n",
            "  False False False False False False False False False False False False\n",
            "  False False False False False False False]\n",
            " [False False False False False False False False False False False False\n",
            "  False False False False False False False False False False False False\n",
            "  False False False False False False False False False  True False False\n",
            "  False False False False False False False False False False False False\n",
            "  False False False False False False False]\n",
            " [False False False False False False False False False False False False\n",
            "  False False False False False False False False False False False False\n",
            "  False False False  True False False False False False False False False\n",
            "  False False False False False False False False False False False False\n",
            "  False False False False False False False]\n",
            " [False False False False False False False False False False False False\n",
            "  False False False False False False False False False False False False\n",
            "  False False False False False False False False False False  True False\n",
            "  False False False False False False False False False False False False\n",
            "  False False False False False False False]\n",
            " [False False False False False False False False False False False False\n",
            "  False False False False False False False False False False False False\n",
            "  False False False False False False False  True False False False False\n",
            "  False False False False False False False False False False False False\n",
            "  False False False False False False False]]\n"
          ]
        }
      ]
    },
    {
      "cell_type": "code",
      "source": [
        "#building the model\n",
        "#we add return_sequences true as it gives 1st lstm out to the second lstm\n",
        "model = Sequential()\n",
        "model.add(LSTM(128, input_shape=(seq_length, n_vocab), return_sequences=True))\n",
        "model.add(Dropout(0.2))\n",
        "model.add(LSTM(128))\n",
        "model.add(Dropout(0.2))\n",
        "model.add(Dense(n_vocab, activation='softmax'))\n",
        "\n",
        "optimizer = RMSprop(lr=0.01)\n",
        "model.compile(loss='categorical_crossentropy', optimizer=optimizer)\n",
        "model.summary()"
      ],
      "metadata": {
        "colab": {
          "base_uri": "https://localhost:8080/"
        },
        "id": "OhwQ9R4qbVjf",
        "outputId": "14788b81-123e-43dd-8260-95c508cd4f3a"
      },
      "execution_count": 12,
      "outputs": [
        {
          "output_type": "stream",
          "name": "stderr",
          "text": [
            "WARNING:absl:`lr` is deprecated in Keras optimizer, please use `learning_rate` or use the legacy optimizer, e.g.,tf.keras.optimizers.legacy.RMSprop.\n"
          ]
        },
        {
          "output_type": "stream",
          "name": "stdout",
          "text": [
            "Model: \"sequential\"\n",
            "_________________________________________________________________\n",
            " Layer (type)                Output Shape              Param #   \n",
            "=================================================================\n",
            " lstm (LSTM)                 (None, 60, 128)           94208     \n",
            "                                                                 \n",
            " dropout (Dropout)           (None, 60, 128)           0         \n",
            "                                                                 \n",
            " lstm_1 (LSTM)               (None, 128)               131584    \n",
            "                                                                 \n",
            " dropout_1 (Dropout)         (None, 128)               0         \n",
            "                                                                 \n",
            " dense (Dense)               (None, 55)                7095      \n",
            "                                                                 \n",
            "=================================================================\n",
            "Total params: 232887 (909.71 KB)\n",
            "Trainable params: 232887 (909.71 KB)\n",
            "Non-trainable params: 0 (0.00 Byte)\n",
            "_________________________________________________________________\n"
          ]
        }
      ]
    },
    {
      "cell_type": "code",
      "source": [
        "# define the checkpoint\n",
        "from keras.callbacks import ModelCheckpoint\n",
        "\n",
        "filepath=\"saved_weights/saved_weights-{epoch:02d}-{loss:.4f}.hdf5\"\n",
        "checkpoint = ModelCheckpoint(filepath, monitor='loss', verbose=1, save_best_only=True, mode='min')\n",
        "\n",
        "callbacks_list = [checkpoint]\n",
        "\n",
        "\n",
        "# Fit the model\n",
        "\n",
        "history = model.fit(x, y,\n",
        "          batch_size=128,\n",
        "          epochs=50,\n",
        "          callbacks=callbacks_list)\n",
        "\n",
        "model.save('my_saved_weights_jungle_book_50epochs.h5')"
      ],
      "metadata": {
        "colab": {
          "base_uri": "https://localhost:8080/"
        },
        "id": "D8sySyQgcnsf",
        "outputId": "0c31f445-668e-4d92-e616-8be8bd582c61"
      },
      "execution_count": 14,
      "outputs": [
        {
          "output_type": "stream",
          "name": "stdout",
          "text": [
            "Epoch 1/50\n",
            "226/229 [============================>.] - ETA: 0s - loss: 2.0602\n",
            "Epoch 1: loss improved from inf to 2.05919, saving model to saved_weights/saved_weights-01-2.0592.hdf5\n",
            "229/229 [==============================] - 3s 11ms/step - loss: 2.0592\n",
            "Epoch 2/50\n",
            " 16/229 [=>............................] - ETA: 2s - loss: 2.0647"
          ]
        },
        {
          "output_type": "stream",
          "name": "stderr",
          "text": [
            "/usr/local/lib/python3.10/dist-packages/keras/src/engine/training.py:3079: UserWarning: You are saving your model as an HDF5 file via `model.save()`. This file format is considered legacy. We recommend using instead the native Keras format, e.g. `model.save('my_model.keras')`.\n",
            "  saving_api.save_model(\n"
          ]
        },
        {
          "output_type": "stream",
          "name": "stdout",
          "text": [
            "226/229 [============================>.] - ETA: 0s - loss: 2.0235\n",
            "Epoch 2: loss improved from 2.05919 to 2.02278, saving model to saved_weights/saved_weights-02-2.0228.hdf5\n",
            "229/229 [==============================] - 2s 11ms/step - loss: 2.0228\n",
            "Epoch 3/50\n",
            "227/229 [============================>.] - ETA: 0s - loss: 1.9893\n",
            "Epoch 3: loss improved from 2.02278 to 1.98928, saving model to saved_weights/saved_weights-03-1.9893.hdf5\n",
            "229/229 [==============================] - 3s 12ms/step - loss: 1.9893\n",
            "Epoch 4/50\n",
            "227/229 [============================>.] - ETA: 0s - loss: 1.9555\n",
            "Epoch 4: loss improved from 1.98928 to 1.95450, saving model to saved_weights/saved_weights-04-1.9545.hdf5\n",
            "229/229 [==============================] - 3s 13ms/step - loss: 1.9545\n",
            "Epoch 5/50\n",
            "226/229 [============================>.] - ETA: 0s - loss: 1.9229\n",
            "Epoch 5: loss improved from 1.95450 to 1.92328, saving model to saved_weights/saved_weights-05-1.9233.hdf5\n",
            "229/229 [==============================] - 3s 11ms/step - loss: 1.9233\n",
            "Epoch 6/50\n",
            "224/229 [============================>.] - ETA: 0s - loss: 1.8896\n",
            "Epoch 6: loss improved from 1.92328 to 1.88956, saving model to saved_weights/saved_weights-06-1.8896.hdf5\n",
            "229/229 [==============================] - 3s 11ms/step - loss: 1.8896\n",
            "Epoch 7/50\n",
            "225/229 [============================>.] - ETA: 0s - loss: 1.8661\n",
            "Epoch 7: loss improved from 1.88956 to 1.86549, saving model to saved_weights/saved_weights-07-1.8655.hdf5\n",
            "229/229 [==============================] - 2s 11ms/step - loss: 1.8655\n",
            "Epoch 8/50\n",
            "227/229 [============================>.] - ETA: 0s - loss: 1.8354\n",
            "Epoch 8: loss improved from 1.86549 to 1.83584, saving model to saved_weights/saved_weights-08-1.8358.hdf5\n",
            "229/229 [==============================] - 3s 12ms/step - loss: 1.8358\n",
            "Epoch 9/50\n",
            "228/229 [============================>.] - ETA: 0s - loss: 1.8131\n",
            "Epoch 9: loss improved from 1.83584 to 1.81329, saving model to saved_weights/saved_weights-09-1.8133.hdf5\n",
            "229/229 [==============================] - 3s 13ms/step - loss: 1.8133\n",
            "Epoch 10/50\n",
            "229/229 [==============================] - ETA: 0s - loss: 1.7847\n",
            "Epoch 10: loss improved from 1.81329 to 1.78466, saving model to saved_weights/saved_weights-10-1.7847.hdf5\n",
            "229/229 [==============================] - 3s 11ms/step - loss: 1.7847\n",
            "Epoch 11/50\n",
            "227/229 [============================>.] - ETA: 0s - loss: 1.7582\n",
            "Epoch 11: loss improved from 1.78466 to 1.75745, saving model to saved_weights/saved_weights-11-1.7575.hdf5\n",
            "229/229 [==============================] - 3s 13ms/step - loss: 1.7575\n",
            "Epoch 12/50\n",
            "226/229 [============================>.] - ETA: 0s - loss: 1.7320\n",
            "Epoch 12: loss improved from 1.75745 to 1.73345, saving model to saved_weights/saved_weights-12-1.7334.hdf5\n",
            "229/229 [==============================] - 2s 11ms/step - loss: 1.7334\n",
            "Epoch 13/50\n",
            "226/229 [============================>.] - ETA: 0s - loss: 1.7109\n",
            "Epoch 13: loss improved from 1.73345 to 1.70913, saving model to saved_weights/saved_weights-13-1.7091.hdf5\n",
            "229/229 [==============================] - 3s 12ms/step - loss: 1.7091\n",
            "Epoch 14/50\n",
            "229/229 [==============================] - ETA: 0s - loss: 1.6879\n",
            "Epoch 14: loss improved from 1.70913 to 1.68789, saving model to saved_weights/saved_weights-14-1.6879.hdf5\n",
            "229/229 [==============================] - 5s 22ms/step - loss: 1.6879\n",
            "Epoch 15/50\n",
            "227/229 [============================>.] - ETA: 0s - loss: 1.6631\n",
            "Epoch 15: loss improved from 1.68789 to 1.66259, saving model to saved_weights/saved_weights-15-1.6626.hdf5\n",
            "229/229 [==============================] - 4s 17ms/step - loss: 1.6626\n",
            "Epoch 16/50\n",
            "227/229 [============================>.] - ETA: 0s - loss: 1.6437\n",
            "Epoch 16: loss improved from 1.66259 to 1.64309, saving model to saved_weights/saved_weights-16-1.6431.hdf5\n",
            "229/229 [==============================] - 3s 13ms/step - loss: 1.6431\n",
            "Epoch 17/50\n",
            "228/229 [============================>.] - ETA: 0s - loss: 1.6166\n",
            "Epoch 17: loss improved from 1.64309 to 1.61714, saving model to saved_weights/saved_weights-17-1.6171.hdf5\n",
            "229/229 [==============================] - 3s 11ms/step - loss: 1.6171\n",
            "Epoch 18/50\n",
            "226/229 [============================>.] - ETA: 0s - loss: 1.5925\n",
            "Epoch 18: loss improved from 1.61714 to 1.59478, saving model to saved_weights/saved_weights-18-1.5948.hdf5\n",
            "229/229 [==============================] - 3s 13ms/step - loss: 1.5948\n",
            "Epoch 19/50\n",
            "229/229 [==============================] - ETA: 0s - loss: 1.5737\n",
            "Epoch 19: loss improved from 1.59478 to 1.57375, saving model to saved_weights/saved_weights-19-1.5737.hdf5\n",
            "229/229 [==============================] - 3s 11ms/step - loss: 1.5737\n",
            "Epoch 20/50\n",
            "225/229 [============================>.] - ETA: 0s - loss: 1.5505\n",
            "Epoch 20: loss improved from 1.57375 to 1.55077, saving model to saved_weights/saved_weights-20-1.5508.hdf5\n",
            "229/229 [==============================] - 2s 11ms/step - loss: 1.5508\n",
            "Epoch 21/50\n",
            "229/229 [==============================] - ETA: 0s - loss: 1.5232\n",
            "Epoch 21: loss improved from 1.55077 to 1.52323, saving model to saved_weights/saved_weights-21-1.5232.hdf5\n",
            "229/229 [==============================] - 3s 11ms/step - loss: 1.5232\n",
            "Epoch 22/50\n",
            "226/229 [============================>.] - ETA: 0s - loss: 1.5043\n",
            "Epoch 22: loss improved from 1.52323 to 1.50489, saving model to saved_weights/saved_weights-22-1.5049.hdf5\n",
            "229/229 [==============================] - 2s 11ms/step - loss: 1.5049\n",
            "Epoch 23/50\n",
            "227/229 [============================>.] - ETA: 0s - loss: 1.4766\n",
            "Epoch 23: loss improved from 1.50489 to 1.47715, saving model to saved_weights/saved_weights-23-1.4771.hdf5\n",
            "229/229 [==============================] - 3s 13ms/step - loss: 1.4771\n",
            "Epoch 24/50\n",
            "225/229 [============================>.] - ETA: 0s - loss: 1.4602\n",
            "Epoch 24: loss improved from 1.47715 to 1.46101, saving model to saved_weights/saved_weights-24-1.4610.hdf5\n",
            "229/229 [==============================] - 3s 12ms/step - loss: 1.4610\n",
            "Epoch 25/50\n",
            "226/229 [============================>.] - ETA: 0s - loss: 1.4374\n",
            "Epoch 25: loss improved from 1.46101 to 1.43808, saving model to saved_weights/saved_weights-25-1.4381.hdf5\n",
            "229/229 [==============================] - 2s 11ms/step - loss: 1.4381\n",
            "Epoch 26/50\n",
            "229/229 [==============================] - ETA: 0s - loss: 1.4075\n",
            "Epoch 26: loss improved from 1.43808 to 1.40754, saving model to saved_weights/saved_weights-26-1.4075.hdf5\n",
            "229/229 [==============================] - 2s 11ms/step - loss: 1.4075\n",
            "Epoch 27/50\n",
            "226/229 [============================>.] - ETA: 0s - loss: 1.3854\n",
            "Epoch 27: loss improved from 1.40754 to 1.38536, saving model to saved_weights/saved_weights-27-1.3854.hdf5\n",
            "229/229 [==============================] - 2s 11ms/step - loss: 1.3854\n",
            "Epoch 28/50\n",
            "228/229 [============================>.] - ETA: 0s - loss: 1.3648\n",
            "Epoch 28: loss improved from 1.38536 to 1.36480, saving model to saved_weights/saved_weights-28-1.3648.hdf5\n",
            "229/229 [==============================] - 3s 13ms/step - loss: 1.3648\n",
            "Epoch 29/50\n",
            "227/229 [============================>.] - ETA: 0s - loss: 1.3459\n",
            "Epoch 29: loss improved from 1.36480 to 1.34566, saving model to saved_weights/saved_weights-29-1.3457.hdf5\n",
            "229/229 [==============================] - 3s 13ms/step - loss: 1.3457\n",
            "Epoch 30/50\n",
            "228/229 [============================>.] - ETA: 0s - loss: 1.3197\n",
            "Epoch 30: loss improved from 1.34566 to 1.31981, saving model to saved_weights/saved_weights-30-1.3198.hdf5\n",
            "229/229 [==============================] - 3s 11ms/step - loss: 1.3198\n",
            "Epoch 31/50\n",
            "228/229 [============================>.] - ETA: 0s - loss: 1.3065\n",
            "Epoch 31: loss improved from 1.31981 to 1.30656, saving model to saved_weights/saved_weights-31-1.3066.hdf5\n",
            "229/229 [==============================] - 3s 11ms/step - loss: 1.3066\n",
            "Epoch 32/50\n",
            "225/229 [============================>.] - ETA: 0s - loss: 1.2813\n",
            "Epoch 32: loss improved from 1.30656 to 1.28059, saving model to saved_weights/saved_weights-32-1.2806.hdf5\n",
            "229/229 [==============================] - 3s 11ms/step - loss: 1.2806\n",
            "Epoch 33/50\n",
            "228/229 [============================>.] - ETA: 0s - loss: 1.2590\n",
            "Epoch 33: loss improved from 1.28059 to 1.25891, saving model to saved_weights/saved_weights-33-1.2589.hdf5\n",
            "229/229 [==============================] - 3s 11ms/step - loss: 1.2589\n",
            "Epoch 34/50\n",
            "226/229 [============================>.] - ETA: 0s - loss: 1.2317\n",
            "Epoch 34: loss improved from 1.25891 to 1.23240, saving model to saved_weights/saved_weights-34-1.2324.hdf5\n",
            "229/229 [==============================] - 3s 13ms/step - loss: 1.2324\n",
            "Epoch 35/50\n",
            "228/229 [============================>.] - ETA: 0s - loss: 1.2150\n",
            "Epoch 35: loss improved from 1.23240 to 1.21507, saving model to saved_weights/saved_weights-35-1.2151.hdf5\n",
            "229/229 [==============================] - 3s 12ms/step - loss: 1.2151\n",
            "Epoch 36/50\n",
            "229/229 [==============================] - ETA: 0s - loss: 1.1962\n",
            "Epoch 36: loss improved from 1.21507 to 1.19621, saving model to saved_weights/saved_weights-36-1.1962.hdf5\n",
            "229/229 [==============================] - 3s 11ms/step - loss: 1.1962\n",
            "Epoch 37/50\n",
            "228/229 [============================>.] - ETA: 0s - loss: 1.1720\n",
            "Epoch 37: loss improved from 1.19621 to 1.17201, saving model to saved_weights/saved_weights-37-1.1720.hdf5\n",
            "229/229 [==============================] - 3s 11ms/step - loss: 1.1720\n",
            "Epoch 38/50\n",
            "228/229 [============================>.] - ETA: 0s - loss: 1.1558\n",
            "Epoch 38: loss improved from 1.17201 to 1.15556, saving model to saved_weights/saved_weights-38-1.1556.hdf5\n",
            "229/229 [==============================] - 3s 11ms/step - loss: 1.1556\n",
            "Epoch 39/50\n",
            "227/229 [============================>.] - ETA: 0s - loss: 1.1297\n",
            "Epoch 39: loss improved from 1.15556 to 1.12944, saving model to saved_weights/saved_weights-39-1.1294.hdf5\n",
            "229/229 [==============================] - 3s 13ms/step - loss: 1.1294\n",
            "Epoch 40/50\n",
            "225/229 [============================>.] - ETA: 0s - loss: 1.1087\n",
            "Epoch 40: loss improved from 1.12944 to 1.10948, saving model to saved_weights/saved_weights-40-1.1095.hdf5\n",
            "229/229 [==============================] - 3s 12ms/step - loss: 1.1095\n",
            "Epoch 41/50\n",
            "228/229 [============================>.] - ETA: 0s - loss: 1.0876\n",
            "Epoch 41: loss improved from 1.10948 to 1.08768, saving model to saved_weights/saved_weights-41-1.0877.hdf5\n",
            "229/229 [==============================] - 3s 11ms/step - loss: 1.0877\n",
            "Epoch 42/50\n",
            "225/229 [============================>.] - ETA: 0s - loss: 1.0781\n",
            "Epoch 42: loss improved from 1.08768 to 1.07826, saving model to saved_weights/saved_weights-42-1.0783.hdf5\n",
            "229/229 [==============================] - 3s 11ms/step - loss: 1.0783\n",
            "Epoch 43/50\n",
            "228/229 [============================>.] - ETA: 0s - loss: 1.0514\n",
            "Epoch 43: loss improved from 1.07826 to 1.05162, saving model to saved_weights/saved_weights-43-1.0516.hdf5\n",
            "229/229 [==============================] - 3s 11ms/step - loss: 1.0516\n",
            "Epoch 44/50\n",
            "228/229 [============================>.] - ETA: 0s - loss: 1.0348\n",
            "Epoch 44: loss improved from 1.05162 to 1.03481, saving model to saved_weights/saved_weights-44-1.0348.hdf5\n",
            "229/229 [==============================] - 3s 12ms/step - loss: 1.0348\n",
            "Epoch 45/50\n",
            "228/229 [============================>.] - ETA: 0s - loss: 1.0162\n",
            "Epoch 45: loss improved from 1.03481 to 1.01606, saving model to saved_weights/saved_weights-45-1.0161.hdf5\n",
            "229/229 [==============================] - 3s 13ms/step - loss: 1.0161\n",
            "Epoch 46/50\n",
            "227/229 [============================>.] - ETA: 0s - loss: 0.9965\n",
            "Epoch 46: loss improved from 1.01606 to 0.99731, saving model to saved_weights/saved_weights-46-0.9973.hdf5\n",
            "229/229 [==============================] - 3s 12ms/step - loss: 0.9973\n",
            "Epoch 47/50\n",
            "225/229 [============================>.] - ETA: 0s - loss: 0.9818\n",
            "Epoch 47: loss improved from 0.99731 to 0.98222, saving model to saved_weights/saved_weights-47-0.9822.hdf5\n",
            "229/229 [==============================] - 3s 14ms/step - loss: 0.9822\n",
            "Epoch 48/50\n",
            "228/229 [============================>.] - ETA: 0s - loss: 0.9663\n",
            "Epoch 48: loss improved from 0.98222 to 0.96639, saving model to saved_weights/saved_weights-48-0.9664.hdf5\n",
            "229/229 [==============================] - 3s 11ms/step - loss: 0.9664\n",
            "Epoch 49/50\n",
            "227/229 [============================>.] - ETA: 0s - loss: 0.9494\n",
            "Epoch 49: loss improved from 0.96639 to 0.94962, saving model to saved_weights/saved_weights-49-0.9496.hdf5\n",
            "229/229 [==============================] - 3s 12ms/step - loss: 0.9496\n",
            "Epoch 50/50\n",
            "226/229 [============================>.] - ETA: 0s - loss: 0.9285\n",
            "Epoch 50: loss improved from 0.94962 to 0.92802, saving model to saved_weights/saved_weights-50-0.9280.hdf5\n",
            "229/229 [==============================] - 3s 13ms/step - loss: 0.9280\n"
          ]
        }
      ]
    },
    {
      "cell_type": "code",
      "source": [
        "from matplotlib import pyplot as plt\n",
        "#plot the training and validation accuracy and loss at each epoch\n",
        "loss = history.history['loss']\n",
        "epochs = range(1, len(loss) + 1)\n",
        "plt.plot(epochs, loss, 'y', label='Training loss')\n",
        "plt.title('Training loss')\n",
        "plt.xlabel('Epochs')\n",
        "plt.ylabel('Loss')\n",
        "plt.legend()\n",
        "plt.show()"
      ],
      "metadata": {
        "colab": {
          "base_uri": "https://localhost:8080/",
          "height": 472
        },
        "id": "klScBHGYdNXE",
        "outputId": "87809377-fc8f-4f02-fb25-429fbc743971"
      },
      "execution_count": 15,
      "outputs": [
        {
          "output_type": "display_data",
          "data": {
            "text/plain": [
              "<Figure size 640x480 with 1 Axes>"
            ],
            "image/png": "[encoded data removed]"
          },
          "metadata": {}
        }
      ]
    },
    {
      "cell_type": "code",
      "source": [
        "#We must provide a sequence of seq_lenth as input to start the generation process\n",
        "\n",
        "#The prediction results is probabilities for each of the 48 characters at a specific\n",
        "#point in sequence. Let us pick the one with max probability and print it out.\n",
        "#Writing our own softmax function....\n",
        "\n",
        "def sample(preds):\n",
        "    preds = np.asarray(preds).astype('float64')\n",
        "    preds = np.log(preds)\n",
        "    exp_preds = np.exp(preds) #exp of log (x), isn't this same as x??\n",
        "    preds = exp_preds / np.sum(exp_preds)\n",
        "    probas = np.random.multinomial(1, preds, 1)\n",
        "    return np.argmax(probas)\n"
      ],
      "metadata": {
        "id": "lRtEguN7d2EV"
      },
      "execution_count": 16,
      "outputs": []
    },
    {
      "cell_type": "code",
      "source": [
        "#Prediction\n",
        "# load the network weights\n",
        "filename = \"my_saved_weights_jungle_book_50epochs.h5\"\n",
        "model.load_weights(filename)\n",
        "\n",
        "#Pick a random sentence from the text as seed.\n",
        "start_index = random.randint(0, n_chars - seq_length - 1)\n",
        "\n",
        "#Initiate generated text and keep adding new predictions and print them out\n",
        "generated = ''\n",
        "sentence = raw_text[start_index: start_index + seq_length]\n",
        "generated += sentence\n",
        "\n",
        "print('----- Seed for our text prediction: \"' + sentence + '\"')\n",
        "#sys.stdout.write(generated)\n",
        "\n",
        "\n",
        "for i in range(400):   # Number of characters including spaces\n",
        "    x_pred = np.zeros((1, seq_length, n_vocab))\n",
        "    for t, char in enumerate(sentence):\n",
        "        x_pred[0, t, char_to_int[char]] = 1.\n",
        "\n",
        "    preds = model.predict(x_pred, verbose=0)[0]\n",
        "    next_index = sample(preds)\n",
        "    next_char = int_to_char[next_index]\n",
        "\n",
        "    generated += next_char\n",
        "    sentence = sentence[1:] + next_char\n",
        "\n",
        "    sys.stdout.write(next_char)\n",
        "    sys.stdout.flush()\n",
        "print()\n",
        "\n"
      ],
      "metadata": {
        "colab": {
          "base_uri": "https://localhost:8080/"
        },
        "id": "YUQBPygfd8Iu",
        "outputId": "5e305b9a-9a85-4cfa-e7e4-b97900f4b43e"
      },
      "execution_count": 17,
      "outputs": [
        {
          "output_type": "stream",
          "name": "stdout",
          "text": [
            "----- Seed for our text prediction: \"f the fight round the black panther--the\n",
            "yells and chatterin\"\n",
            "g male pouth the ter lock. the head:\n",
            "uf i his saitighoss and pack and growntion in troen, the feaths on the his look n; the fright prone to that eye god\n",
            "we have as big sere the mach spere the conrasing of the till\n",
            "grat norgions the see by the inderss in their never go fot the tood toution the tillled brownd himssithered the tong gamw the clops of the said begween steace till thee water#onf wer lit\n"
          ]
        }
      ]
    }
  ]
}